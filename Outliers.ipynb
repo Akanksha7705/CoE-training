{
 "cells": [
  {
   "cell_type": "code",
   "execution_count": 1,
   "id": "37221102",
   "metadata": {},
   "outputs": [],
   "source": [
    "import numpy as np\n",
    "import pandas as pd\n",
    "import matplotlib.pyplot as plt\n",
    "import seaborn as sns\n",
    "from scipy.stats import zscore"
   ]
  },
  {
   "cell_type": "code",
   "execution_count": 3,
   "id": "88a8b84b",
   "metadata": {},
   "outputs": [],
   "source": [
    "np.random.seed(42)\n",
    "data = np.random.normal(loc=50,scale=10,size = 100) # Normal data with mean = 50 , std = 10\n",
    "outliers = np.array([10,110,5,120]) # outliers\n",
    "data = np.concatenate([data,outliers]) # Adding outliers to the dataset"
   ]
  },
  {
   "cell_type": "code",
   "execution_count": 6,
   "id": "1f37b28a",
   "metadata": {},
   "outputs": [
    {
     "data": {
      "text/html": [
       "<div>\n",
       "<style scoped>\n",
       "    .dataframe tbody tr th:only-of-type {\n",
       "        vertical-align: middle;\n",
       "    }\n",
       "\n",
       "    .dataframe tbody tr th {\n",
       "        vertical-align: top;\n",
       "    }\n",
       "\n",
       "    .dataframe thead th {\n",
       "        text-align: right;\n",
       "    }\n",
       "</style>\n",
       "<table border=\"1\" class=\"dataframe\">\n",
       "  <thead>\n",
       "    <tr style=\"text-align: right;\">\n",
       "      <th></th>\n",
       "      <th>Values</th>\n",
       "    </tr>\n",
       "  </thead>\n",
       "  <tbody>\n",
       "    <tr>\n",
       "      <th>0</th>\n",
       "      <td>54.967142</td>\n",
       "    </tr>\n",
       "    <tr>\n",
       "      <th>1</th>\n",
       "      <td>48.617357</td>\n",
       "    </tr>\n",
       "    <tr>\n",
       "      <th>2</th>\n",
       "      <td>56.476885</td>\n",
       "    </tr>\n",
       "    <tr>\n",
       "      <th>3</th>\n",
       "      <td>65.230299</td>\n",
       "    </tr>\n",
       "    <tr>\n",
       "      <th>4</th>\n",
       "      <td>47.658466</td>\n",
       "    </tr>\n",
       "  </tbody>\n",
       "</table>\n",
       "</div>"
      ],
      "text/plain": [
       "      Values\n",
       "0  54.967142\n",
       "1  48.617357\n",
       "2  56.476885\n",
       "3  65.230299\n",
       "4  47.658466"
      ]
     },
     "execution_count": 6,
     "metadata": {},
     "output_type": "execute_result"
    }
   ],
   "source": [
    "df=pd.DataFrame(data, columns=['Values'])\n",
    "df.head()"
   ]
  },
  {
   "cell_type": "code",
   "execution_count": 7,
   "id": "154bc50a",
   "metadata": {},
   "outputs": [
    {
     "data": {
      "text/html": [
       "<div>\n",
       "<style scoped>\n",
       "    .dataframe tbody tr th:only-of-type {\n",
       "        vertical-align: middle;\n",
       "    }\n",
       "\n",
       "    .dataframe tbody tr th {\n",
       "        vertical-align: top;\n",
       "    }\n",
       "\n",
       "    .dataframe thead th {\n",
       "        text-align: right;\n",
       "    }\n",
       "</style>\n",
       "<table border=\"1\" class=\"dataframe\">\n",
       "  <thead>\n",
       "    <tr style=\"text-align: right;\">\n",
       "      <th></th>\n",
       "      <th>Values</th>\n",
       "    </tr>\n",
       "  </thead>\n",
       "  <tbody>\n",
       "    <tr>\n",
       "      <th>99</th>\n",
       "      <td>47.654129</td>\n",
       "    </tr>\n",
       "    <tr>\n",
       "      <th>100</th>\n",
       "      <td>10.000000</td>\n",
       "    </tr>\n",
       "    <tr>\n",
       "      <th>101</th>\n",
       "      <td>110.000000</td>\n",
       "    </tr>\n",
       "    <tr>\n",
       "      <th>102</th>\n",
       "      <td>5.000000</td>\n",
       "    </tr>\n",
       "    <tr>\n",
       "      <th>103</th>\n",
       "      <td>120.000000</td>\n",
       "    </tr>\n",
       "  </tbody>\n",
       "</table>\n",
       "</div>"
      ],
      "text/plain": [
       "         Values\n",
       "99    47.654129\n",
       "100   10.000000\n",
       "101  110.000000\n",
       "102    5.000000\n",
       "103  120.000000"
      ]
     },
     "execution_count": 7,
     "metadata": {},
     "output_type": "execute_result"
    }
   ],
   "source": [
    "df.tail()"
   ]
  },
  {
   "cell_type": "markdown",
   "id": "7dd77b82",
   "metadata": {},
   "source": [
    "# Scatter plot\n",
    "** <ins> Scatter plot </ins> **"
   ]
  },
  {
   "cell_type": "code",
   "execution_count": 16,
   "id": "08059721",
   "metadata": {},
   "outputs": [
    {
     "data": {
      "image/png": "[encoded data removed]",
      "text/plain": [
       "<Figure size 800x500 with 1 Axes>"
      ]
     },
     "metadata": {},
     "output_type": "display_data"
    }
   ],
   "source": [
    "plt.figure(figsize=(8,5))\n",
    "plt.scatter(range(len(df)), df['Values'],color='green', label='Data points')\n",
    "plt.axhline(y=df['Values'].mean(), color='purple', linestyle='--', label='Mean')\n",
    "plt.xlabel(\"Index\")\n",
    "plt.ylabel(\"Values\")\n",
    "plt.title(\"Scatter Plot for Outlier Detection\")\n",
    "plt.legend()\n",
    "plt.show()"
   ]
  },
  {
   "cell_type": "markdown",
   "id": "e7d9782c",
   "metadata": {},
   "source": [
    "# Box Plot\n",
    "** to identify the outliers **"
   ]
  },
  {
   "cell_type": "code",
   "execution_count": 21,
   "id": "1ec92278",
   "metadata": {},
   "outputs": [
    {
     "data": {
      "text/plain": [
       "Text(0.5, 1.0, 'Box plot for outlier detection')"
      ]
     },
     "execution_count": 21,
     "metadata": {},
     "output_type": "execute_result"
    },
    {
     "data": {
      "image/png": "[encoded data removed]",
      "text/plain": [
       "<Figure size 800x500 with 1 Axes>"
      ]
     },
     "metadata": {},
     "output_type": "display_data"
    }
   ],
   "source": [
    "plt.figure(figsize=(8,5))\n",
    "sns.boxplot(data=df, y='Values',color='purple')\n",
    "plt.title(\"Box plot for outlier detection\")"
   ]
  },
  {
   "cell_type": "markdown",
   "id": "6ec46e22",
   "metadata": {},
   "source": [
    "# Z-score Method\n",
    "\n",
    "\n",
    "z = x - m / s\n",
    "\n",
    "\n",
    "where:\n",
    "\n",
    "\n",
    "x = data point\n",
    "\n",
    "\n",
    "m = mean of dataset\n",
    "\n",
    "\n",
    "s = Standard deviation of the dataset"
   ]
  },
  {
   "cell_type": "code",
   "execution_count": 25,
   "id": "9c18e6f5",
   "metadata": {},
   "outputs": [
    {
     "name": "stdout",
     "output_type": "stream",
     "text": [
      "     Values   Z-score Outlier_Z\n",
      "101   110.0  4.328173   Outlier\n",
      "102     5.0 -3.175368   Outlier\n",
      "103   120.0  5.042796   Outlier\n"
     ]
    }
   ],
   "source": [
    "# compute z-score for each data point\n",
    "df['Z-score'] = zscore(df['Values'])\n",
    "df['Outlier_Z'] = df['Z-score'].apply(lambda x: 'Outlier' if abs(x) > 3 else 'Normal')\n",
    "print(df[df['Outlier_Z']=='Outlier'])"
   ]
  },
  {
   "cell_type": "markdown",
   "id": "40b26ee5",
   "metadata": {},
   "source": [
    "# Interquartile Range (IQR) Method \n",
    "\n",
    "\n",
    "The IQR formula is:\n",
    "\n",
    "\n",
    "IQR = Q3-Q1\n",
    "\n",
    "\n",
    "Steps:\n",
    "\n",
    "\n",
    "    1. Calculate Q1(25th percentile) and Q3(75th percentile)\n",
    "    \n",
    "    \n",
    "    2. Compute IQR = Q3 - Q1\n",
    "    \n",
    "    \n",
    "    3. Define lower & upper bound:\n",
    "    \n",
    "    \n",
    "        ** Lower  Bound = Q1-1.5* IQR **\n",
    "        \n",
    "        \n",
    "        ** Upper  Bound = Q3+1.5* IQR **\n",
    "        \n",
    "        \n",
    "    4. Any value outside these bounds is an outlier.\n",
    "    \n",
    "    "
   ]
  },
  {
   "cell_type": "code",
   "execution_count": 26,
   "id": "5fd87d07",
   "metadata": {},
   "outputs": [
    {
     "name": "stdout",
     "output_type": "stream",
     "text": [
      "         Values   Z-score Outlier_Z Outlier_IQR\n",
      "74    23.802549 -1.831694    Normal     Outlier\n",
      "100   10.000000 -2.818056    Normal     Outlier\n",
      "101  110.000000  4.328173   Outlier     Outlier\n",
      "102    5.000000 -3.175368   Outlier     Outlier\n",
      "103  120.000000  5.042796   Outlier     Outlier\n"
     ]
    }
   ],
   "source": [
    "Q1 = df['Values'].quantile(0.25)\n",
    "Q3 = df['Values'].quantile(0.75)\n",
    "IQR = Q3 - Q1\n",
    "\n",
    "# Defining bounds\n",
    "lower_bound = Q1 - 1.5 * IQR\n",
    "upper_bound = Q3 + 1.5 * IQR\n",
    "\n",
    "# Identifying outliers\n",
    "df['Outlier_IQR']=df['Values'].apply(lambda x: 'Outlier' if(x< lower_bound or x > upper_bound) else 'Normal')\n",
    "print(df[df['Outlier_IQR']=='Outlier']) # Display detected outliers"
   ]
  },
  {
   "cell_type": "markdown",
   "id": "96699483",
   "metadata": {},
   "source": [
    "# Final Summary\n",
    "\n",
    "1. Scatter plot -> Outliers appear far from the main cluster.\n",
    "\n",
    "2. Box Plot -> Outliers are outside the whiskers.\n",
    "\n",
    "3. Z-Score -> Values with Z > 3 or Z < -3 are outliers.\n",
    "\n",
    "4. IQR Method -> Values outside[Q1 - 1.5xIQR, Q3 + 1.5xIQR] are outliers."
   ]
  },
  {
   "cell_type": "markdown",
   "id": "e10fc69c",
   "metadata": {},
   "source": [
    "**Finding Outliers Using the IQR Method with a 5-Number Summary**\n",
    "\n",
    "The 5-number summary consists of:\n",
    " \n",
    "Minimum (Q0) → The smallest value in the dataset.\n",
    " \n",
    "First Quartile (Q1) → The 25th percentile (lower quartile).\n",
    " \n",
    "Median (Q2) → The 50th percentile (middle value).\n",
    " \n",
    "Third Quartile (Q3) → The 75th percentile (upper quartile).\n",
    " \n",
    "Maximum (Q4) → The largest value in the dataset.\n",
    " "
   ]
  },
  {
   "cell_type": "markdown",
   "id": "2924b751",
   "metadata": {},
   "source": [
    "The Interquartile Range (IQR) is calculated as:\n",
    " \n",
    "IQR=Q3−Q1\n",
    " \n",
    "Any value outside the range:\n",
    " \n",
    "[Q1−1.5×IQR,Q3+1.5×IQR]  is considered an outlier.\n",
    " "
   ]
  },
  {
   "cell_type": "markdown",
   "id": "e8a517c3",
   "metadata": {},
   "source": [
    "**Let's generate a dataset, compute the 5-number summary, and find the outliers using the IQR**\n",
    " "
   ]
  },
  {
   "cell_type": "code",
   "execution_count": 29,
   "id": "9f0a2637",
   "metadata": {},
   "outputs": [
    {
     "name": "stdout",
     "output_type": "stream",
     "text": [
      "5-Number Summary: \n",
      "Min: 5.0, Q1: 43.874401021766715, Median (Q2): 48.73043708220287, Q3:55.00852473036764, Max: 120.0\n",
      "IQR: 11.134123708600924\n",
      "Lower Bound: 27.17321545886533, Upper Bound: 71.70971029326903\n",
      "Outliers: [ 23.80254896  10.         110.           5.         120.        ]\n"
     ]
    }
   ],
   "source": [
    "# Step1: Create a dataset\n",
    "np.random.seed(42)\n",
    "data = np.random.normal(loc=50,scale=10,size = 100) # Normal data with mean = 50 , std = 10\n",
    "outliers = np.array([10,110,5,120]) # outliers\n",
    "data = np.concatenate([data,outliers]) # Adding outliers to the dataset\n",
    "\n",
    "# Step2: Compute the 5-number summary\n",
    "Q1 = np.percentile(data,25)\n",
    "Q2 = np.median(data)\n",
    "Q3 = np.percentile(data, 75)\n",
    "min_value = np.min(data)\n",
    "max_value = np.max(data)\n",
    "\n",
    "# Step3: Compute IQR\n",
    "IQR = Q3 - Q1\n",
    "\n",
    "# Step4: Compute Outlier Boundaries\n",
    "lower_bound = Q1 - 1.5* IQR\n",
    "upper_bound = Q3 + 1.5* IQR\n",
    "\n",
    "# Step5: Find Outliers\n",
    "outliers = data[(data < lower_bound) | (data > upper_bound)]\n",
    "\n",
    "# Step 6: Print Results\n",
    "print(f\"5-Number Summary: \\nMin: {min_value}, Q1: {Q1}, Median (Q2): {Q2}, Q3:{Q3}, Max: {max_value}\")\n",
    "print(f\"IQR: {IQR}\")\n",
    "print(f\"Lower Bound: {lower_bound}, Upper Bound: {upper_bound}\")\n",
    "print(f\"Outliers: {outliers}\")"
   ]
  },
  {
   "cell_type": "code",
   "execution_count": null,
   "id": "0a615405",
   "metadata": {},
   "outputs": [],
   "source": []
  }
 ],
 "metadata": {
  "kernelspec": {
   "display_name": "Python 3 (ipykernel)",
   "language": "python",
   "name": "python3"
  },
  "language_info": {
   "codemirror_mode": {
    "name": "ipython",
    "version": 3
   },
   "file_extension": ".py",
   "mimetype": "text/x-python",
   "name": "python",
   "nbconvert_exporter": "python",
   "pygments_lexer": "ipython3",
   "version": "3.11.5"
  }
 },
 "nbformat": 4,
 "nbformat_minor": 5
}
