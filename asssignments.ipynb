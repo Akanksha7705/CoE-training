{
 "cells": [
  {
   "cell_type": "code",
   "execution_count": 8,
   "id": "d0317273-62fc-4b39-b561-6dc1b12533c1",
   "metadata": {},
   "outputs": [
    {
     "name": "stdout",
     "output_type": "stream",
     "text": [
      "Hello\n"
     ]
    }
   ],
   "source": [
    "def add():\n",
    "    print(\"Hello\")\n",
    "add()"
   ]
  },
  {
   "cell_type": "code",
   "execution_count": 102,
   "id": "23884230-1e4e-417a-a1d7-64c0e935dbde",
   "metadata": {},
   "outputs": [
    {
     "name": "stdout",
     "output_type": "stream",
     "text": [
      "Should not end with . or @ symbol\n"
     ]
    }
   ],
   "source": [
    "def password(passw):\n",
    "    if len(passw) < 10 or len(passw)>15 :\n",
    "        print(\"check characters\")\n",
    "    elif passw.isdigit() or passw.isalpha():\n",
    "        print(\"Only digits or alphabets\")\n",
    "    elif not any(char.isupper() for char in passw):\n",
    "        print(\"Give atleast one uppercase letter\")\n",
    "    elif not any(char.isupper() for char in passw):\n",
    "        print(\"Give atleast one lowercase letter\")\n",
    "    elif any(char.isspace() for char in passw):\n",
    "        print(\"Should not take white spaces\")\n",
    "    elif len(passw) > 0 and (passw[-1] == '.' or passw[-1] == '@'):\n",
    "        print(\"Should not end with . or @ symbol\") \n",
    "    else:\n",
    "        print(\"Correct\")\n",
    "password(passw=\"Akanksha@123.\")"
   ]
  },
  {
   "cell_type": "code",
   "execution_count": 132,
   "id": "983b1356-e417-4128-b0e1-0f01933e7f42",
   "metadata": {},
   "outputs": [
    {
     "name": "stdout",
     "output_type": "stream",
     "text": [
      "[1, 3, 4]\n"
     ]
    }
   ],
   "source": [
    "a=[1,2,3,4]\n",
    "b=[1,2]\n",
    "a.append(b)\n",
    "a.remove(2)\n",
    "a.pop()\n",
    "print(a)"
   ]
  },
  {
   "cell_type": "code",
   "execution_count": 134,
   "id": "1ad5ed79-8194-4d05-8968-c1fcca9f4eb7",
   "metadata": {},
   "outputs": [
    {
     "name": "stdout",
     "output_type": "stream",
     "text": [
      "Cart is: {'Laptop': 50000, 'Headphones': 2000, 'Mouse': 35000, 'Keyboard': 1500, 'Monitor': 1000}\n",
      "Total price: 89500\n"
     ]
    }
   ],
   "source": [
    "def calctotal(cart):\n",
    "    total = sum(cart.values())\n",
    "    if len(cart) > 5 :\n",
    "        total *= 0.9\n",
    "    return total\n",
    "cart = {'Laptop':50000 , 'Headphones':2000, 'Mouse':35000, 'Keyboard':1500, 'Monitor':1000}\n",
    "print(f\"Cart is: {cart}\")\n",
    "print(f\"Total price: {calctotal(cart)}\")"
   ]
  },
  {
   "cell_type": "code",
   "execution_count": 138,
   "id": "16d484c1-5f57-428a-b4d1-ad52dcf583aa",
   "metadata": {},
   "outputs": [
    {
     "name": "stdout",
     "output_type": "stream",
     "text": [
      "Cart is: {'Laptop': 50000, 'Headphones': 2000, 'Mouse': 35000, 'Keyboard': 1500}\n",
      "Total price: 75225.0\n"
     ]
    }
   ],
   "source": [
    "def calctotal(cart):\n",
    "    total = sum(cart.values())\n",
    "    if total >20000 and total <50000 :\n",
    "        total *= 0.9\n",
    "    elif total >50000 :\n",
    "        total *= 0.85\n",
    "    return total\n",
    "cart = {'Laptop':50000 , 'Headphones':2000, 'Mouse':35000, 'Keyboard':1500}\n",
    "print(f\"Cart is: {cart}\")\n",
    "print(f\"Total price: {calctotal(cart)}\")"
   ]
  },
  {
   "cell_type": "code",
   "execution_count": 140,
   "id": "d9f45a45-60c3-469a-b06c-98337ce66f3c",
   "metadata": {},
   "outputs": [
    {
     "name": "stdout",
     "output_type": "stream",
     "text": [
      "Hello world\n"
     ]
    }
   ],
   "source": [
    "print(\"Hello world\")"
   ]
  },
  {
   "cell_type": "code",
   "execution_count": null,
   "id": "b0246193-28e2-435c-945d-c6784386c8bf",
   "metadata": {},
   "outputs": [],
   "source": []
  }
 ],
 "metadata": {
  "kernelspec": {
   "display_name": "Python [conda env:base] *",
   "language": "python",
   "name": "conda-base-py"
  },
  "language_info": {
   "codemirror_mode": {
    "name": "ipython",
    "version": 3
   },
   "file_extension": ".py",
   "mimetype": "text/x-python",
   "name": "python",
   "nbconvert_exporter": "python",
   "pygments_lexer": "ipython3",
   "version": "3.12.7"
  }
 },
 "nbformat": 4,
 "nbformat_minor": 5
}
