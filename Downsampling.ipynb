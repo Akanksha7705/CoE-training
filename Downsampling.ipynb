{
 "cells": [
  {
   "cell_type": "markdown",
   "id": "e4b872fa",
   "metadata": {},
   "source": [
    "# Balancing a Dataset with Downsampling\n",
    "\n",
    "Imagine we have a dataset for a binary classification task where the class labels are imbalanced, and we want to downsample the majority class to balance the dataset."
   ]
  },
  {
   "cell_type": "code",
   "execution_count": 3,
   "id": "8153f690",
   "metadata": {},
   "outputs": [],
   "source": [
    "import pandas as pd\n",
    "from sklearn.utils import resample\n",
    "\n",
    "# Sample dataset\n",
    "df = pd.DataFrame({\n",
    "     'Age': [22,25,27,28,30,35,40,45,50,55,60,65,70],\n",
    "     'Income': [2000,2500,2700,3200,3500,3800,4000,4200,4300,4500,5000,5500,6000],\n",
    "     'Class': ['High','Low','Low','High','High','Low','High','High','Low','Low','High','High','Low']\n",
    "    })"
   ]
  },
  {
   "cell_type": "markdown",
   "id": "b4faa48f",
   "metadata": {},
   "source": [
    "High class has 7 instances.\n",
    "\n",
    "Low class has 6 instances."
   ]
  },
  {
   "cell_type": "code",
   "execution_count": 10,
   "id": "6e976298",
   "metadata": {},
   "outputs": [
    {
     "name": "stdout",
     "output_type": "stream",
     "text": [
      "    Age  Income Class\n",
      "0    22    2000  High\n",
      "3    28    3200  High\n",
      "4    30    3500  High\n",
      "6    40    4000  High\n",
      "7    45    4200  High\n",
      "10   60    5000  High\n",
      "11   65    5500  High \n",
      "\n",
      "    Age  Income Class\n",
      "1    25    2500   Low\n",
      "2    27    2700   Low\n",
      "5    35    3800   Low\n",
      "8    50    4300   Low\n",
      "9    55    4500   Low\n",
      "12   70    6000   Low\n"
     ]
    }
   ],
   "source": [
    "# Seperate majority and minority classes\n",
    "df_high = df[df['Class'] == 'High']\n",
    "df_low = df[df['Class'] == 'Low']\n",
    "print(df_high,\"\\n\")\n",
    "print(df_low)"
   ]
  },
  {
   "cell_type": "code",
   "execution_count": 3,
   "id": "3a928d36",
   "metadata": {},
   "outputs": [],
   "source": [
    "# Downsample majority class\n",
    "df_high_downsampled = resample(df_high, replace=False, n_samples=len(df_low),random_state=42)"
   ]
  },
  {
   "cell_type": "code",
   "execution_count": 4,
   "id": "f8a557a4",
   "metadata": {},
   "outputs": [],
   "source": [
    "# Combine downsampled majority with minority class\n",
    "df_balanced = pd.concat([df_high_downsampled, df_low])"
   ]
  },
  {
   "cell_type": "code",
   "execution_count": 6,
   "id": "ac752f1f",
   "metadata": {},
   "outputs": [
    {
     "name": "stdout",
     "output_type": "stream",
     "text": [
      "Class\n",
      "High    6\n",
      "Low     6\n",
      "Name: count, dtype: int64\n"
     ]
    }
   ],
   "source": [
    "print(df_balanced['Class'].value_counts())"
   ]
  },
  {
   "cell_type": "markdown",
   "id": "fe2ab91f",
   "metadata": {},
   "source": [
    "# Upsampling the Minority class\n",
    "\n"
   ]
  },
  {
   "cell_type": "code",
   "execution_count": 12,
   "id": "565ddf3c",
   "metadata": {},
   "outputs": [],
   "source": [
    "import pandas as pd\n",
    "from sklearn.utils import resample\n",
    "\n",
    "# Sample dataset\n",
    "df = pd.DataFrame({\n",
    "    'Age': [22,25,27,28,30,35,40,45,50,55,60,65],\n",
    "    'Income': [2000,2500,2700,3200,3500,3800,4000,4200,4300,4500,5000,5500],\n",
    "    'Class': ['Minority','Majority','Majority','Majority','Majority','Minority','Minority','Minority','Minority','Majority','Majority','Majority']\n",
    "})"
   ]
  },
  {
   "cell_type": "code",
   "execution_count": 14,
   "id": "d32e938b",
   "metadata": {},
   "outputs": [
    {
     "name": "stdout",
     "output_type": "stream",
     "text": [
      "    Age  Income     Class\n",
      "1    25    2500  Majority\n",
      "2    27    2700  Majority\n",
      "3    28    3200  Majority\n",
      "4    30    3500  Majority\n",
      "9    55    4500  Majority\n",
      "10   60    5000  Majority\n",
      "11   65    5500  Majority \n",
      "\n",
      "   Age  Income     Class\n",
      "0   22    2000  Minority\n",
      "5   35    3800  Minority\n",
      "6   40    4000  Minority\n",
      "7   45    4200  Minority\n",
      "8   50    4300  Minority\n"
     ]
    }
   ],
   "source": [
    "df_majority = df[df['Class']== 'Majority']\n",
    "df_minority = df[df['Class']== 'Minority']\n",
    "print(df_majority, \"\\n\")\n",
    "print(df_minority)"
   ]
  },
  {
   "cell_type": "code",
   "execution_count": 16,
   "id": "67906d3e",
   "metadata": {},
   "outputs": [],
   "source": [
    "df_minority_upsampled = resample(df_minority, replace=True, n_samples=len(df_majority),random_state=42)"
   ]
  },
  {
   "cell_type": "code",
   "execution_count": 17,
   "id": "0976407a",
   "metadata": {},
   "outputs": [],
   "source": [
    "df_balanced=pd.concat([df_majority,df_minority_upsampled])"
   ]
  },
  {
   "cell_type": "code",
   "execution_count": 18,
   "id": "65056af4",
   "metadata": {},
   "outputs": [
    {
     "name": "stdout",
     "output_type": "stream",
     "text": [
      "Class\n",
      "Majority    7\n",
      "Minority    7\n",
      "Name: count, dtype: int64\n"
     ]
    }
   ],
   "source": [
    "print(df_balanced['Class'].value_counts())"
   ]
  },
  {
   "cell_type": "code",
   "execution_count": 4,
   "id": "adfd6682",
   "metadata": {},
   "outputs": [
    {
     "name": "stdout",
     "output_type": "stream",
     "text": [
      "Requirement already satisfied: imbalanced-learn in c:\\users\\cvr\\anaconda3\\lib\\site-packages (0.10.1)\n",
      "Requirement already satisfied: numpy>=1.17.3 in c:\\users\\cvr\\anaconda3\\lib\\site-packages (from imbalanced-learn) (1.24.3)\n",
      "Requirement already satisfied: scipy>=1.3.2 in c:\\users\\cvr\\anaconda3\\lib\\site-packages (from imbalanced-learn) (1.11.1)\n",
      "Requirement already satisfied: scikit-learn>=1.0.2 in c:\\users\\cvr\\anaconda3\\lib\\site-packages (from imbalanced-learn) (1.3.0)\n",
      "Requirement already satisfied: joblib>=1.1.1 in c:\\users\\cvr\\anaconda3\\lib\\site-packages (from imbalanced-learn) (1.2.0)\n",
      "Requirement already satisfied: threadpoolctl>=2.0.0 in c:\\users\\cvr\\anaconda3\\lib\\site-packages (from imbalanced-learn) (2.2.0)\n",
      "Note: you may need to restart the kernel to use updated packages.\n"
     ]
    }
   ],
   "source": [
    "pip install imbalanced-learn"
   ]
  },
  {
   "cell_type": "markdown",
   "id": "b99043ac",
   "metadata": {},
   "source": [
    "1.SMOTE to generate synthetic samples instead of duplicating existing ones.\n",
    "\n",
    "2.Convert categorical class labels into numeric form to SMOTE to work.\n",
    "\n",
    "3.Apply SMOTE to balance the dataset.\n",
    "\n",
    "4.Convert back to original categorical labels.\n",
    "\n",
    "5.Combine the resampled data into a final balanced datset."
   ]
  },
  {
   "cell_type": "code",
   "execution_count": 7,
   "id": "3b497cc9",
   "metadata": {},
   "outputs": [
    {
     "name": "stdout",
     "output_type": "stream",
     "text": [
      "Requirement already satisfied: scikit-learn in c:\\users\\cvr\\anaconda3\\lib\\site-packages (1.6.1)\n",
      "Requirement already satisfied: imbalanced-learn in c:\\users\\cvr\\anaconda3\\lib\\site-packages (0.10.1)\n",
      "Collecting imbalanced-learn\n",
      "  Obtaining dependency information for imbalanced-learn from https://files.pythonhosted.org/packages/9d/41/721fec82606242a2072ee909086ff918dfad7d0199a9dfd4928df9c72494/imbalanced_learn-0.13.0-py3-none-any.whl.metadata\n",
      "  Using cached imbalanced_learn-0.13.0-py3-none-any.whl.metadata (8.8 kB)\n",
      "Requirement already satisfied: numpy>=1.19.5 in c:\\users\\cvr\\anaconda3\\lib\\site-packages (from scikit-learn) (1.24.3)\n",
      "Requirement already satisfied: scipy>=1.6.0 in c:\\users\\cvr\\anaconda3\\lib\\site-packages (from scikit-learn) (1.11.1)\n",
      "Requirement already satisfied: joblib>=1.2.0 in c:\\users\\cvr\\anaconda3\\lib\\site-packages (from scikit-learn) (1.2.0)\n",
      "Requirement already satisfied: threadpoolctl>=3.1.0 in c:\\users\\cvr\\anaconda3\\lib\\site-packages (from scikit-learn) (3.5.0)\n",
      "Collecting sklearn-compat<1,>=0.1 (from imbalanced-learn)\n",
      "  Obtaining dependency information for sklearn-compat<1,>=0.1 from https://files.pythonhosted.org/packages/f0/a8/ad69cf130fbd017660cdd64abbef3f28135d9e2e15fe3002e03c5be0ca38/sklearn_compat-0.1.3-py3-none-any.whl.metadata\n",
      "  Using cached sklearn_compat-0.1.3-py3-none-any.whl.metadata (18 kB)\n",
      "Using cached imbalanced_learn-0.13.0-py3-none-any.whl (238 kB)\n",
      "Using cached sklearn_compat-0.1.3-py3-none-any.whl (18 kB)\n",
      "Installing collected packages: sklearn-compat, imbalanced-learn\n",
      "  Attempting uninstall: imbalanced-learn\n",
      "    Found existing installation: imbalanced-learn 0.10.1\n",
      "    Uninstalling imbalanced-learn-0.10.1:\n",
      "      Successfully uninstalled imbalanced-learn-0.10.1\n",
      "Successfully installed imbalanced-learn-0.13.0 sklearn-compat-0.1.3\n",
      "Note: you may need to restart the kernel to use updated packages.\n"
     ]
    }
   ],
   "source": [
    "pip install --upgrade scikit-learn imbalanced-learn\n"
   ]
  },
  {
   "cell_type": "code",
   "execution_count": 13,
   "id": "d7505e21",
   "metadata": {
    "scrolled": true
   },
   "outputs": [
    {
     "name": "stdout",
     "output_type": "stream",
     "text": [
      "Found existing installation: scikit-learn 1.6.1\n",
      "Uninstalling scikit-learn-1.6.1:\n",
      "  Successfully uninstalled scikit-learn-1.6.1\n",
      "Found existing installation: imbalanced-learn 0.13.0\n",
      "Uninstalling imbalanced-learn-0.13.0:\n",
      "  Successfully uninstalled imbalanced-learn-0.13.0\n",
      "Note: you may need to restart the kernel to use updated packages.\n"
     ]
    }
   ],
   "source": [
    "pip uninstall scikit-learn imbalanced-learn -y"
   ]
  },
  {
   "cell_type": "code",
   "execution_count": 14,
   "id": "e693c91b",
   "metadata": {},
   "outputs": [
    {
     "name": "stdout",
     "output_type": "stream",
     "text": [
      "Collecting scikit-learn\n",
      "  Obtaining dependency information for scikit-learn from https://files.pythonhosted.org/packages/a1/a6/c5b78606743a1f28eae8f11973de6613a5ee87366796583fb74c67d54939/scikit_learn-1.6.1-cp311-cp311-win_amd64.whl.metadata\n",
      "  Using cached scikit_learn-1.6.1-cp311-cp311-win_amd64.whl.metadata (15 kB)\n",
      "Collecting imbalanced-learn\n",
      "  Obtaining dependency information for imbalanced-learn from https://files.pythonhosted.org/packages/9d/41/721fec82606242a2072ee909086ff918dfad7d0199a9dfd4928df9c72494/imbalanced_learn-0.13.0-py3-none-any.whl.metadata\n",
      "  Using cached imbalanced_learn-0.13.0-py3-none-any.whl.metadata (8.8 kB)\n",
      "Requirement already satisfied: numpy>=1.19.5 in c:\\users\\cvr\\anaconda3\\lib\\site-packages (from scikit-learn) (1.24.3)\n",
      "Requirement already satisfied: scipy>=1.6.0 in c:\\users\\cvr\\anaconda3\\lib\\site-packages (from scikit-learn) (1.11.1)\n",
      "Requirement already satisfied: joblib>=1.2.0 in c:\\users\\cvr\\anaconda3\\lib\\site-packages (from scikit-learn) (1.2.0)\n",
      "Requirement already satisfied: threadpoolctl>=3.1.0 in c:\\users\\cvr\\anaconda3\\lib\\site-packages (from scikit-learn) (3.5.0)\n",
      "Requirement already satisfied: sklearn-compat<1,>=0.1 in c:\\users\\cvr\\anaconda3\\lib\\site-packages (from imbalanced-learn) (0.1.3)\n",
      "Using cached scikit_learn-1.6.1-cp311-cp311-win_amd64.whl (11.1 MB)\n",
      "Using cached imbalanced_learn-0.13.0-py3-none-any.whl (238 kB)\n",
      "Installing collected packages: scikit-learn, imbalanced-learn\n",
      "Successfully installed imbalanced-learn-0.13.0 scikit-learn-1.6.1\n",
      "Note: you may need to restart the kernel to use updated packages.\n"
     ]
    }
   ],
   "source": [
    "pip install -U scikit-learn imbalanced-learn"
   ]
  },
  {
   "cell_type": "code",
   "execution_count": 1,
   "id": "69fc7986",
   "metadata": {
    "scrolled": false
   },
   "outputs": [],
   "source": [
    "import pandas as pd\n",
    "from imblearn.over_sampling import SMOTE\n",
    "\n"
   ]
  },
  {
   "cell_type": "code",
   "execution_count": 3,
   "id": "d0a03457",
   "metadata": {},
   "outputs": [
    {
     "name": "stdout",
     "output_type": "stream",
     "text": [
      "Class\n",
      "Minority    7\n",
      "Majority    7\n",
      "Name: count, dtype: int64\n",
      "    Age  Income     Class\n",
      "0    22    2000  Minority\n",
      "1    25    2500  Majority\n",
      "2    27    2700  Majority\n",
      "3    28    3200  Majority\n",
      "4    30    3500  Majority\n",
      "5    35    3800  Minority\n",
      "6    40    4000  Minority\n",
      "7    45    4200  Minority\n",
      "8    50    4300  Minority\n",
      "9    55    4500  Majority\n",
      "10   60    5000  Majority\n",
      "11   65    5500  Majority\n",
      "12   44    4190  Minority\n",
      "13   38    3946  Minority\n"
     ]
    }
   ],
   "source": [
    "# Sample dataset\n",
    "df = pd.DataFrame({\n",
    "    'Age': [22,25,27,28,30,35,40,45,50,55,60,65],\n",
    "    'Income': [2000,2500,2700,3200,3500,3800,4000,4200,4300,4500,5000,5500],\n",
    "    'Class': ['Minority','Majority','Majority','Majority','Majority','Minority','Minority','Minority','Minority','Majority','Majority','Majority']\n",
    "})\n",
    "\n",
    "# Step 1: Convert categorical labels to numerical values\n",
    "df['Class'] = df['Class'].map({'Majority': 0, 'Minority': 1})\n",
    "\n",
    "# Step 2: Split features (X) and target variable (y)\n",
    "X = df[['Age', 'Income']]\n",
    "y = df['Class']\n",
    "\n",
    "# Step 3: Apply SMOTE with k_neighbors=3 (reducing from default 5)\n",
    "smote =SMOTE(sampling_strategy='auto',random_state=42, k_neighbors=3)\n",
    "X_resampled , y_resampled = smote.fit_resample(X,y)\n",
    "\n",
    "# Step 4: Convert numeric Labels back to categorical\n",
    "y_resampled = y_resampled.map({0: 'Majority', 1:'Minority'})\n",
    "\n",
    "# Step 5: Combine the resampled dataset\n",
    "df_balanced = pd.concat([pd.DataFrame(X_resampled, columns = ['Age', 'Income']), pd.DataFrame(y_resampled, columns=['Class'])],axis=1)\n",
    "\n",
    "# Step 6: Print class distribution\n",
    "print(df_balanced['Class'].value_counts())\n",
    "                         \n",
    "# Step 7: Display the upsampled dataset\n",
    "print(df_balanced)"
   ]
  },
  {
   "cell_type": "code",
   "execution_count": null,
   "id": "1ff9ba6d",
   "metadata": {},
   "outputs": [],
   "source": []
  }
 ],
 "metadata": {
  "kernelspec": {
   "display_name": "Python 3 (ipykernel)",
   "language": "python",
   "name": "python3"
  },
  "language_info": {
   "codemirror_mode": {
    "name": "ipython",
    "version": 3
   },
   "file_extension": ".py",
   "mimetype": "text/x-python",
   "name": "python",
   "nbconvert_exporter": "python",
   "pygments_lexer": "ipython3",
   "version": "3.11.5"
  }
 },
 "nbformat": 4,
 "nbformat_minor": 5
}
